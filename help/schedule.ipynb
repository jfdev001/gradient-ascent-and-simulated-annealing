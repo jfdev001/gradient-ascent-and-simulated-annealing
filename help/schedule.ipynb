{
 "cells": [
  {
   "cell_type": "code",
   "execution_count": 2,
   "source": [
    "import numpy as np\r\n",
    "import matplotlib.pyplot as plt"
   ],
   "outputs": [],
   "metadata": {}
  },
  {
   "cell_type": "code",
   "execution_count": 15,
   "source": [
    "def schedule(iter, max_iter):\r\n",
    "    return 1 - (iter+1)/max_iter\r\n",
    "\r\n",
    "def schedule2(iter):\r\n",
    "    return 1/(iter+1)"
   ],
   "outputs": [],
   "metadata": {}
  },
  {
   "cell_type": "code",
   "execution_count": 18,
   "source": [
    "x = np.arange(0, 40)\r\n",
    "y = schedule(x, 10)\r\n",
    "y_2 = schedule2(x)\r\n",
    "print(x)\r\n",
    "print(y)\r\n",
    "print(y_2)"
   ],
   "outputs": [
    {
     "output_type": "stream",
     "name": "stdout",
     "text": [
      "[ 0  1  2  3  4  5  6  7  8  9 10 11 12 13 14 15 16 17 18 19 20 21 22 23\n",
      " 24 25 26 27 28 29 30 31 32 33 34 35 36 37 38 39]\n",
      "[ 0.9  0.8  0.7  0.6  0.5  0.4  0.3  0.2  0.1  0.  -0.1 -0.2 -0.3 -0.4\n",
      " -0.5 -0.6 -0.7 -0.8 -0.9 -1.  -1.1 -1.2 -1.3 -1.4 -1.5 -1.6 -1.7 -1.8\n",
      " -1.9 -2.  -2.1 -2.2 -2.3 -2.4 -2.5 -2.6 -2.7 -2.8 -2.9 -3. ]\n",
      "[1.         0.5        0.33333333 0.25       0.2        0.16666667\n",
      " 0.14285714 0.125      0.11111111 0.1        0.09090909 0.08333333\n",
      " 0.07692308 0.07142857 0.06666667 0.0625     0.05882353 0.05555556\n",
      " 0.05263158 0.05       0.04761905 0.04545455 0.04347826 0.04166667\n",
      " 0.04       0.03846154 0.03703704 0.03571429 0.03448276 0.03333333\n",
      " 0.03225806 0.03125    0.03030303 0.02941176 0.02857143 0.02777778\n",
      " 0.02702703 0.02631579 0.02564103 0.025     ]\n"
     ]
    }
   ],
   "metadata": {}
  },
  {
   "cell_type": "code",
   "execution_count": 19,
   "source": [
    "plt.plot(x, y_2)"
   ],
   "outputs": [
    {
     "output_type": "execute_result",
     "data": {
      "text/plain": [
       "[<matplotlib.lines.Line2D at 0x1aa9180b910>]"
      ]
     },
     "metadata": {},
     "execution_count": 19
    },
    {
     "output_type": "display_data",
     "data": {
      "image/png": "[encoded data removed]",
      "text/plain": [
       "<Figure size 432x288 with 1 Axes>"
      ]
     },
     "metadata": {
      "needs_background": "light"
     }
    }
   ],
   "metadata": {}
  },
  {
   "cell_type": "code",
   "execution_count": 14,
   "source": [
    "np.exp(-(1-2)/schedule(0, 10))"
   ],
   "outputs": [
    {
     "output_type": "execute_result",
     "data": {
      "text/plain": [
       "3.037731777517483"
      ]
     },
     "metadata": {},
     "execution_count": 14
    }
   ],
   "metadata": {}
  },
  {
   "cell_type": "code",
   "execution_count": null,
   "source": [],
   "outputs": [],
   "metadata": {}
  }
 ],
 "metadata": {
  "orig_nbformat": 4,
  "language_info": {
   "name": "python",
   "version": "3.9.6",
   "mimetype": "text/x-python",
   "codemirror_mode": {
    "name": "ipython",
    "version": 3
   },
   "pygments_lexer": "ipython3",
   "nbconvert_exporter": "python",
   "file_extension": ".py"
  },
  "kernelspec": {
   "name": "python3",
   "display_name": "Python 3.9.6 64-bit ('blue-mars': conda)"
  },
  "interpreter": {
   "hash": "07f0aceed467d0cbae7569fecdfaec78063cba8e23481668ef588a8de6eba6e0"
  }
 },
 "nbformat": 4,
 "nbformat_minor": 2
}