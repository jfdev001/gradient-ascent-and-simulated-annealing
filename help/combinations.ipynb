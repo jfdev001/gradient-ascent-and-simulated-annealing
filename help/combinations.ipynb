{
 "cells": [
  {
   "cell_type": "code",
   "execution_count": 1,
   "source": [
    "from itertools import product"
   ],
   "outputs": [],
   "metadata": {}
  },
  {
   "cell_type": "code",
   "execution_count": 2,
   "source": [
    "d = (1, 2, 3, 4, 5 )\r\n",
    "n = (5, 10, 50, 100)"
   ],
   "outputs": [],
   "metadata": {}
  },
  {
   "cell_type": "code",
   "execution_count": 3,
   "source": [
    "combos = [x for x in product(d, n)]"
   ],
   "outputs": [],
   "metadata": {}
  },
  {
   "cell_type": "code",
   "execution_count": 4,
   "source": [
    "for i in combos:\r\n",
    "    print(str(i[0]) + ' ' + str(i[1]))"
   ],
   "outputs": [
    {
     "output_type": "stream",
     "name": "stdout",
     "text": [
      "1 5\n",
      "1 10\n",
      "1 50\n",
      "1 100\n",
      "2 5\n",
      "2 10\n",
      "2 50\n",
      "2 100\n",
      "3 5\n",
      "3 10\n",
      "3 50\n",
      "3 100\n",
      "4 5\n",
      "4 10\n",
      "4 50\n",
      "4 100\n",
      "5 5\n",
      "5 10\n",
      "5 50\n",
      "5 100\n"
     ]
    }
   ],
   "metadata": {}
  },
  {
   "cell_type": "code",
   "execution_count": 6,
   "source": [
    "with open('combos.txt', 'w') as fobj:\r\n",
    "    for tup in combos:\r\n",
    "        fobj.write(str(tup[0]) + ' ' + str(tup[1]) + '\\n')"
   ],
   "outputs": [],
   "metadata": {}
  },
  {
   "cell_type": "code",
   "execution_count": null,
   "source": [],
   "outputs": [],
   "metadata": {}
  }
 ],
 "metadata": {
  "orig_nbformat": 4,
  "language_info": {
   "name": "python",
   "version": "3.9.6",
   "mimetype": "text/x-python",
   "codemirror_mode": {
    "name": "ipython",
    "version": 3
   },
   "pygments_lexer": "ipython3",
   "nbconvert_exporter": "python",
   "file_extension": ".py"
  },
  "kernelspec": {
   "name": "python3",
   "display_name": "Python 3.9.6 64-bit ('blue-mars': conda)"
  },
  "interpreter": {
   "hash": "07f0aceed467d0cbae7569fecdfaec78063cba8e23481668ef588a8de6eba6e0"
  }
 },
 "nbformat": 4,
 "nbformat_minor": 2
}