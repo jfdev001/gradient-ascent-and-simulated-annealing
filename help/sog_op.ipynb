{
 "cells": [
  {
   "cell_type": "code",
   "execution_count": 16,
   "source": [
    "import sys\r\n",
    "import os\r\n",
    "import numpy as np\r\n",
    "sys.path.append(os.path.join(os.getcwd(), '..'))"
   ],
   "outputs": [],
   "metadata": {}
  },
  {
   "cell_type": "code",
   "execution_count": 17,
   "source": [
    "from SumofGaussians import SumofGaussians\r\n",
    "from greedy import random_location"
   ],
   "outputs": [],
   "metadata": {}
  },
  {
   "cell_type": "code",
   "execution_count": 21,
   "source": [
    "seed = 42\r\n",
    "dimensions = 2\r\n",
    "\r\n",
    "# V\r\n",
    "random_vector = random_location(seed, d_dimensions=dimensions)\r\n",
    "\r\n",
    "# Sum of gauss\r\n",
    "sog = SumofGaussians(dimensions=dimensions, number_of_centers=5)\r\n",
    "\r\n",
    "print('centers:')\r\n",
    "print(sog.centers)\r\n",
    "\r\n",
    "print('deriv:')\r\n",
    "print(sog.Deriv(random_vector), type(sog.Deriv(random_vector)))\r\n",
    "\r\n",
    "print('abs deriv:')\r\n",
    "print(np.absolute(sog.Deriv(random_vector)))\r\n",
    "\r\n",
    "print('mean abs deriv:')\r\n",
    "print(np.mean(np.absolute(sog.Deriv(random_vector))))\r\n",
    "\r\n",
    "print('updated loc')\r\n",
    "print(*(random_vector + sog.Deriv(random_vector)))\r\n",
    "\r\n",
    "print('eval:')\r\n",
    "print(sog.Eval(random_vector + sog.Deriv(random_vector)))"
   ],
   "outputs": [
    {
     "output_type": "stream",
     "name": "stdout",
     "text": [
      "centers:\n",
      "[[7.31993942 5.98658484]\n",
      " [1.5601864  1.5599452 ]\n",
      " [0.58083612 8.66176146]\n",
      " [6.01115012 7.08072578]\n",
      " [0.20584494 9.69909852]]\n",
      "deriv:\n",
      "[-8.92029734e-05 -1.15039992e-04] <class 'numpy.ndarray'>\n",
      "abs deriv:\n",
      "[8.92029734e-05 1.15039992e-04]\n",
      "mean abs deriv:\n",
      "0.00010212148262832274\n",
      "updated loc\n",
      "3.7453119855001913 9.507028024107338\n",
      "eval:\n",
      "4.17623554051131e-05\n"
     ]
    }
   ],
   "metadata": {}
  },
  {
   "cell_type": "code",
   "execution_count": null,
   "source": [],
   "outputs": [],
   "metadata": {}
  }
 ],
 "metadata": {
  "orig_nbformat": 4,
  "language_info": {
   "name": "python",
   "version": "3.9.6",
   "mimetype": "text/x-python",
   "codemirror_mode": {
    "name": "ipython",
    "version": 3
   },
   "pygments_lexer": "ipython3",
   "nbconvert_exporter": "python",
   "file_extension": ".py"
  },
  "kernelspec": {
   "name": "python3",
   "display_name": "Python 3.9.6 64-bit ('blue-mars': conda)"
  },
  "interpreter": {
   "hash": "07f0aceed467d0cbae7569fecdfaec78063cba8e23481668ef588a8de6eba6e0"
  }
 },
 "nbformat": 4,
 "nbformat_minor": 2
}