{
 "cells": [
  {
   "cell_type": "code",
   "execution_count": 5,
   "source": [
    "import sys\r\n",
    "import os\r\n",
    "sys.path.append(os.path.join(os.getcwd(), '..'))"
   ],
   "outputs": [],
   "metadata": {}
  },
  {
   "cell_type": "code",
   "execution_count": 12,
   "source": [
    "from SumofGaussians import SumofGaussians\r\n",
    "from greedy import random_location"
   ],
   "outputs": [],
   "metadata": {}
  },
  {
   "cell_type": "code",
   "execution_count": 44,
   "source": [
    "seed = 0\r\n",
    "dimensions = 2\r\n",
    "\r\n",
    "# V\r\n",
    "random_vector = random_location(seed, d_dimensions=dimensions)\r\n",
    "\r\n",
    "# Sum of gauss\r\n",
    "sog = SumofGaussians(dimensions=dimensions, number_of_centers=3)\r\n",
    "\r\n",
    "print('centers:')\r\n",
    "print(sog.centers)\r\n",
    "\r\n",
    "print('deriv:')\r\n",
    "print(sog.Deriv(random_vector))\r\n",
    "\r\n",
    "print('updated loc')\r\n",
    "print(*(random_vector + sog.Deriv(random_vector)))\r\n",
    "\r\n",
    "print('eval:')\r\n",
    "print(sog.Eval(random_vector))"
   ],
   "outputs": [
    {
     "output_type": "stream",
     "name": "stdout",
     "text": [
      "centers:\n",
      "[[6.02763376 5.44883183]\n",
      " [4.23654799 6.45894113]\n",
      " [4.37587211 8.91773001]]\n",
      "deriv:\n",
      "[-0.30752699 -0.27370037]\n",
      "updated loc\n",
      "5.180608048392869 6.878193296699525\n",
      "eval:\n",
      "0.183116000529172\n"
     ]
    }
   ],
   "metadata": {}
  },
  {
   "cell_type": "code",
   "execution_count": null,
   "source": [],
   "outputs": [],
   "metadata": {}
  }
 ],
 "metadata": {
  "orig_nbformat": 4,
  "language_info": {
   "name": "python",
   "version": "3.9.6",
   "mimetype": "text/x-python",
   "codemirror_mode": {
    "name": "ipython",
    "version": 3
   },
   "pygments_lexer": "ipython3",
   "nbconvert_exporter": "python",
   "file_extension": ".py"
  },
  "kernelspec": {
   "name": "python3",
   "display_name": "Python 3.9.6 64-bit ('blue-mars': conda)"
  },
  "interpreter": {
   "hash": "07f0aceed467d0cbae7569fecdfaec78063cba8e23481668ef588a8de6eba6e0"
  }
 },
 "nbformat": 4,
 "nbformat_minor": 2
}